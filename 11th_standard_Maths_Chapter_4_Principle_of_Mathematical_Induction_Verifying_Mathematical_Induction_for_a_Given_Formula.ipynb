{
  "nbformat": 4,
  "nbformat_minor": 0,
  "metadata": {
    "colab": {
      "provenance": [],
      "authorship_tag": "ABX9TyM4rYzQaszYjRCIPWZvY8j5",
      "include_colab_link": true
    },
    "kernelspec": {
      "name": "python3",
      "display_name": "Python 3"
    },
    "language_info": {
      "name": "python"
    }
  },
  "cells": [
    {
      "cell_type": "markdown",
      "metadata": {
        "id": "view-in-github",
        "colab_type": "text"
      },
      "source": [
        "<a href=\"https://colab.research.google.com/github/ruforavishnu/Project_Simulations/blob/main/11th_standard_Maths_Chapter_4_Principle_of_Mathematical_Induction_Verifying_Mathematical_Induction_for_a_Given_Formula.ipynb\" target=\"_parent\"><img src=\"https://colab.research.google.com/assets/colab-badge.svg\" alt=\"Open In Colab\"/></a>"
      ]
    },
    {
      "cell_type": "markdown",
      "source": [
        "Problem Statement\n",
        "We are verifying by code that:\n",
        "\n",
        "1\n",
        "+\n",
        "2\n",
        "+\n",
        "3\n",
        "+\n",
        "…\n",
        "+\n",
        "𝑛\n",
        "=\n",
        "𝑛\n",
        "(\n",
        "𝑛\n",
        "+\n",
        "1\n",
        ")\n",
        "2\n",
        "1+2+3+…+n=\n",
        "2\n",
        "n(n+1)\n",
        "​\n",
        "\n",
        "This verification is done for:\n",
        "\n",
        "Base Case (n = 1)\n",
        "\n",
        "Inductive Step (assuming true for n = k, check for n = k+1)"
      ],
      "metadata": {
        "id": "KK45L9RIs16O"
      }
    },
    {
      "cell_type": "code",
      "execution_count": 1,
      "metadata": {
        "id": "NobrSApgsYR6"
      },
      "outputs": [],
      "source": [
        "def lhs_sum(n):\n",
        "  return sum(range(1, n+1 ))\n",
        "\n",
        "def rhs_formula(n):\n",
        "  return n* (n+1) // 2\n",
        "\n"
      ]
    },
    {
      "cell_type": "code",
      "source": [
        "n_values = range(1, 21) #checking from 1 to 20\n",
        "\n"
      ],
      "metadata": {
        "id": "spGvruketO94"
      },
      "execution_count": 2,
      "outputs": []
    },
    {
      "cell_type": "code",
      "source": [
        "for n in n_values:\n",
        "  lhs = lhs_sum(n)\n",
        "  rhs = rhs_formula(n)\n",
        "  print(f\"n = {n}:\\t  LHS= {lhs},\\t RHS= {rhs} \\t --> \\t {'Match ' if lhs == rhs else 'Mismatch'}   \")\n"
      ],
      "metadata": {
        "colab": {
          "base_uri": "https://localhost:8080/"
        },
        "id": "_-PLsuzctUkL",
        "outputId": "6cb4a087-37c2-48be-feaa-739464399330"
      },
      "execution_count": 6,
      "outputs": [
        {
          "output_type": "stream",
          "name": "stdout",
          "text": [
            "n = 1:\t  LHS= 1,\t RHS= 1 \t --> \t Match    \n",
            "n = 2:\t  LHS= 3,\t RHS= 3 \t --> \t Match    \n",
            "n = 3:\t  LHS= 6,\t RHS= 6 \t --> \t Match    \n",
            "n = 4:\t  LHS= 10,\t RHS= 10 \t --> \t Match    \n",
            "n = 5:\t  LHS= 15,\t RHS= 15 \t --> \t Match    \n",
            "n = 6:\t  LHS= 21,\t RHS= 21 \t --> \t Match    \n",
            "n = 7:\t  LHS= 28,\t RHS= 28 \t --> \t Match    \n",
            "n = 8:\t  LHS= 36,\t RHS= 36 \t --> \t Match    \n",
            "n = 9:\t  LHS= 45,\t RHS= 45 \t --> \t Match    \n",
            "n = 10:\t  LHS= 55,\t RHS= 55 \t --> \t Match    \n",
            "n = 11:\t  LHS= 66,\t RHS= 66 \t --> \t Match    \n",
            "n = 12:\t  LHS= 78,\t RHS= 78 \t --> \t Match    \n",
            "n = 13:\t  LHS= 91,\t RHS= 91 \t --> \t Match    \n",
            "n = 14:\t  LHS= 105,\t RHS= 105 \t --> \t Match    \n",
            "n = 15:\t  LHS= 120,\t RHS= 120 \t --> \t Match    \n",
            "n = 16:\t  LHS= 136,\t RHS= 136 \t --> \t Match    \n",
            "n = 17:\t  LHS= 153,\t RHS= 153 \t --> \t Match    \n",
            "n = 18:\t  LHS= 171,\t RHS= 171 \t --> \t Match    \n",
            "n = 19:\t  LHS= 190,\t RHS= 190 \t --> \t Match    \n",
            "n = 20:\t  LHS= 210,\t RHS= 210 \t --> \t Match    \n"
          ]
        }
      ]
    },
    {
      "cell_type": "markdown",
      "source": [
        "Hence proved.\n",
        "\n",
        "That means by the principle of mathematical induction we have proved it"
      ],
      "metadata": {
        "id": "WbVMBhTXuTE0"
      }
    }
  ]
}