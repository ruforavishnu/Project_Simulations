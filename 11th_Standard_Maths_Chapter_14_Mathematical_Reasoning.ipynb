{
  "nbformat": 4,
  "nbformat_minor": 0,
  "metadata": {
    "colab": {
      "provenance": [],
      "authorship_tag": "ABX9TyOzx/kPcMEX3U2kh5tnG/ZH",
      "include_colab_link": true
    },
    "kernelspec": {
      "name": "python3",
      "display_name": "Python 3"
    },
    "language_info": {
      "name": "python"
    }
  },
  "cells": [
    {
      "cell_type": "markdown",
      "metadata": {
        "id": "view-in-github",
        "colab_type": "text"
      },
      "source": [
        "<a href=\"https://colab.research.google.com/github/ruforavishnu/Project_Simulations/blob/main/11th_Standard_Maths_Chapter_14_Mathematical_Reasoning.ipynb\" target=\"_parent\"><img src=\"https://colab.research.google.com/assets/colab-badge.svg\" alt=\"Open In Colab\"/></a>"
      ]
    },
    {
      "cell_type": "code",
      "execution_count": 1,
      "metadata": {
        "id": "vqnY_Lmd-NgY"
      },
      "outputs": [],
      "source": [
        "from sympy import symbols\n",
        "from sympy.logic.boolalg import Implies, Not, Or, Equivalent, truth_table"
      ]
    },
    {
      "cell_type": "code",
      "source": [
        "p , q = symbols('p q')\n"
      ],
      "metadata": {
        "id": "sNKfnVsg-kat"
      },
      "execution_count": 2,
      "outputs": []
    },
    {
      "cell_type": "code",
      "source": [
        "expr1 = Implies(p,q)\n",
        "expr2 = Or(Not(p), q)\n",
        "expr_equiv = Equivalent(expr1, expr2)\n",
        "\n",
        "\n",
        "print(f'Expression to validate:')\n",
        "print(f'(p → q) ↔ (¬p ∨ q)\\n')\n"
      ],
      "metadata": {
        "colab": {
          "base_uri": "https://localhost:8080/"
        },
        "id": "wnJ_WSjG-ona",
        "outputId": "de944d69-156f-4f57-ad8f-b1f89f8311aa"
      },
      "execution_count": 3,
      "outputs": [
        {
          "output_type": "stream",
          "name": "stdout",
          "text": [
            "Expression to validate:\n",
            "(p → q) ↔ (¬p ∨ q)\n",
            "\n"
          ]
        }
      ]
    },
    {
      "cell_type": "code",
      "source": [
        "#Generate and display truth table\n",
        "print(\"Truth Table\\n\")\n",
        "tt = list(truth_table(expr_equiv, [p, q]))\n",
        "\n",
        "for values, result in  tt:\n",
        "  print(f'p : {values[0]}, q: {values[1]} => {result}')\n",
        "\n",
        ""
      ],
      "metadata": {
        "colab": {
          "base_uri": "https://localhost:8080/"
        },
        "id": "IzShMXpO_DiS",
        "outputId": "9ef6550e-ac93-41db-812d-bbe8729d8777"
      },
      "execution_count": 4,
      "outputs": [
        {
          "output_type": "stream",
          "name": "stdout",
          "text": [
            "Truth Table\n",
            "\n",
            "p : 0, q: 0 => True\n",
            "p : 0, q: 1 => True\n",
            "p : 1, q: 0 => True\n",
            "p : 1, q: 1 => True\n"
          ]
        }
      ]
    },
    {
      "cell_type": "code",
      "source": [
        "# check if always true\n",
        "is_tautology = all(result for _, result in tt)\n",
        "print(f'\\nIs it a tautology?: ', \"Yes  ✅\"  if is_tautology else \"No  ❌\")\n"
      ],
      "metadata": {
        "colab": {
          "base_uri": "https://localhost:8080/"
        },
        "id": "bu0lbvHq_cSh",
        "outputId": "1cd009ef-3409-464e-a5a1-3f93e5eacfcb"
      },
      "execution_count": 5,
      "outputs": [
        {
          "output_type": "stream",
          "name": "stdout",
          "text": [
            "\n",
            "Is it a tautology?:  Yes  ✅\n"
          ]
        }
      ]
    }
  ]
}