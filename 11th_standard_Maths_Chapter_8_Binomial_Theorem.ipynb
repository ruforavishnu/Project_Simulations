{
  "nbformat": 4,
  "nbformat_minor": 0,
  "metadata": {
    "colab": {
      "provenance": [],
      "authorship_tag": "ABX9TyO/oV1qfcFweE/BTeczUA7v",
      "include_colab_link": true
    },
    "kernelspec": {
      "name": "python3",
      "display_name": "Python 3"
    },
    "language_info": {
      "name": "python"
    }
  },
  "cells": [
    {
      "cell_type": "markdown",
      "metadata": {
        "id": "view-in-github",
        "colab_type": "text"
      },
      "source": [
        "<a href=\"https://colab.research.google.com/github/ruforavishnu/Project_Simulations/blob/main/11th_standard_Maths_Chapter_8_Binomial_Theorem.ipynb\" target=\"_parent\"><img src=\"https://colab.research.google.com/assets/colab-badge.svg\" alt=\"Open In Colab\"/></a>"
      ]
    },
    {
      "cell_type": "code",
      "execution_count": 6,
      "metadata": {
        "id": "V9qvCvMnJSWI"
      },
      "outputs": [],
      "source": [
        "import math\n",
        "from sympy import symbols , expand\n",
        "\n",
        "def binomial_coefficient(n, r):\n",
        "  return math.comb(n, r)\n",
        "\n",
        "\n",
        "def generate_pascals_triangle(n):\n",
        "  triangle = []\n",
        "  for i in range(n + 1):\n",
        "    row = [binomial_coefficient(i, k) for k in range(i + 1)]\n",
        "    triangle.append(row)\n",
        "\n",
        "  return triangle\n",
        "\n",
        "\n",
        "def binomial_expansion(a, b, n):\n",
        "  expansion = \"\"\n",
        "\n",
        "  for k in range(n + 1):\n",
        "    coeff = binomial_coefficient(n, k)\n",
        "    term = f\"{'' if coeff ==1 else coeff}* {a}^{n-k} *{b}^{k}\"\n",
        "    expansion += term + \" + \"\n",
        "\n",
        "  return expansion[:-3]\n",
        "\n",
        "def print_triangle(triangle):\n",
        "  print(\"Pascal's Triangle\")\n",
        "  for row in triangle:\n",
        "    print(\" \".join(map(str, row)).center(50)  )\n",
        "\n",
        "\n",
        "\n",
        "def symbolic_expansion(n):\n",
        "  x, y = symbols('x y')\n",
        "  expr = (x + y)**n\n",
        "  return expand(expr)\n",
        "\n",
        "\n",
        "\n",
        "\n",
        "\n"
      ]
    },
    {
      "cell_type": "code",
      "source": [
        "n = 5\n",
        "triangle = generate_pascals_triangle(n)\n",
        "print_triangle(triangle)\n",
        "\n",
        "\n",
        "print(f\"\\nBinomial expansion of (x + y)^{n} using formula:\")\n",
        "print(binomial_expansion(\"x\",\"y\", n ))\n",
        "\n"
      ],
      "metadata": {
        "colab": {
          "base_uri": "https://localhost:8080/"
        },
        "id": "2WcGAQGOLEJZ",
        "outputId": "372651f8-8334-4f20-f9d8-e2e1afd4e071"
      },
      "execution_count": 7,
      "outputs": [
        {
          "output_type": "stream",
          "name": "stdout",
          "text": [
            "Pascal's Triangle\n",
            "                        1                         \n",
            "                       1 1                        \n",
            "                      1 2 1                       \n",
            "                     1 3 3 1                      \n",
            "                    1 4 6 4 1                     \n",
            "                  1 5 10 10 5 1                   \n",
            "\n",
            "Binomial expansion of (x + y)^5 using formula:\n",
            "* x^5 *y^0 + 5* x^4 *y^1 + 10* x^3 *y^2 + 10* x^2 *y^3 + 5* x^1 *y^4 + * x^0 *y^5\n"
          ]
        }
      ]
    },
    {
      "cell_type": "code",
      "source": [
        "print(f\"\\nSymbolic expansion of (x + y)^{n} using sympy:\")\n",
        "print(symbolic_expansion(n))"
      ],
      "metadata": {
        "colab": {
          "base_uri": "https://localhost:8080/"
        },
        "id": "h7ky7KhGLilv",
        "outputId": "173a801e-b7b5-4d8a-c2f1-e32e9978706b"
      },
      "execution_count": 8,
      "outputs": [
        {
          "output_type": "stream",
          "name": "stdout",
          "text": [
            "\n",
            "Symbolic expansion of (x + y)^5 using sympy:\n",
            "x**5 + 5*x**4*y + 10*x**3*y**2 + 10*x**2*y**3 + 5*x*y**4 + y**5\n"
          ]
        }
      ]
    }
  ]
}