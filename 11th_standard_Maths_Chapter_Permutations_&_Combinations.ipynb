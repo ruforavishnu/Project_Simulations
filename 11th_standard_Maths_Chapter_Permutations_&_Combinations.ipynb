{
  "nbformat": 4,
  "nbformat_minor": 0,
  "metadata": {
    "colab": {
      "provenance": [],
      "authorship_tag": "ABX9TyNGeLxNMGwwl0gitmLy4WEV",
      "include_colab_link": true
    },
    "kernelspec": {
      "name": "python3",
      "display_name": "Python 3"
    },
    "language_info": {
      "name": "python"
    }
  },
  "cells": [
    {
      "cell_type": "markdown",
      "metadata": {
        "id": "view-in-github",
        "colab_type": "text"
      },
      "source": [
        "<a href=\"https://colab.research.google.com/github/ruforavishnu/Project_Simulations/blob/main/11th_standard_Maths_Chapter_Permutations_%26_Combinations.ipynb\" target=\"_parent\"><img src=\"https://colab.research.google.com/assets/colab-badge.svg\" alt=\"Open In Colab\"/></a>"
      ]
    },
    {
      "cell_type": "markdown",
      "source": [
        "## Permutations"
      ],
      "metadata": {
        "id": "VY3-awZDgVst"
      }
    },
    {
      "cell_type": "code",
      "execution_count": 1,
      "metadata": {
        "id": "roYrsHHAfKs_"
      },
      "outputs": [],
      "source": [
        "import itertools\n",
        "import math\n",
        "\n",
        "\n",
        "elements = ['A', 'B', 'C']\n",
        "\n",
        "permutation_list = list(itertools.permutations(elements))\n",
        "\n"
      ]
    },
    {
      "cell_type": "code",
      "source": [
        "print('All permutations of ', elements)\n",
        "for i, perm in enumerate(permutation_list, 1):\n",
        "  print(f'{i}: {perm}')\n",
        "\n",
        "\n",
        "\n",
        "expected_count = math.factorial(len(elements))\n",
        "print('\\nTheoretical number of permutations (n!): ', expected_count)\n",
        "print('Generated number of permutations:', len(permutation_list))"
      ],
      "metadata": {
        "colab": {
          "base_uri": "https://localhost:8080/"
        },
        "id": "55JsaPZ9fhn2",
        "outputId": "8ee01b32-a81a-48ff-abef-6699f3c9fcc6"
      },
      "execution_count": 3,
      "outputs": [
        {
          "output_type": "stream",
          "name": "stdout",
          "text": [
            "All permutations of  ['A', 'B', 'C']\n",
            "1: ('A', 'B', 'C')\n",
            "2: ('A', 'C', 'B')\n",
            "3: ('B', 'A', 'C')\n",
            "4: ('B', 'C', 'A')\n",
            "5: ('C', 'A', 'B')\n",
            "6: ('C', 'B', 'A')\n",
            "\n",
            "Theoretical number of permutations (n!):  6\n",
            "Generated number of permutations: 6\n"
          ]
        }
      ]
    },
    {
      "cell_type": "markdown",
      "source": [
        "## Combinations"
      ],
      "metadata": {
        "id": "FOEZB9kLgY5D"
      }
    },
    {
      "cell_type": "code",
      "source": [
        "import itertools\n",
        "import math\n",
        "\n",
        "students = ['A','B','C','D','E']\n",
        "\n",
        "combinations = list(itertools.combinations(students, 3))\n"
      ],
      "metadata": {
        "id": "wW2znfoGgaKD"
      },
      "execution_count": 4,
      "outputs": []
    },
    {
      "cell_type": "code",
      "source": [
        "print('All possible teams of 3 students from ', students)\n",
        "for i, team in enumerate(combinations, 1):\n",
        "  print(f'{i}: {team}')\n",
        "\n",
        "# compare with theoretical value\n",
        "n = len(students)\n",
        "r = 3\n",
        "theoretical_count = math.comb(n, r)\n",
        "print('\\nTheoretical number of combinations: ',theoretical_count )\n",
        "print('Generated combinations: ', len(combinations))\n",
        "\n"
      ],
      "metadata": {
        "colab": {
          "base_uri": "https://localhost:8080/"
        },
        "id": "m2W3hOoWgo1b",
        "outputId": "c237a896-17a0-40a8-f73e-aa19de9d3c2b"
      },
      "execution_count": 5,
      "outputs": [
        {
          "output_type": "stream",
          "name": "stdout",
          "text": [
            "All possible teams of 3 students from  ['A', 'B', 'C', 'D', 'E']\n",
            "1: ('A', 'B', 'C')\n",
            "2: ('A', 'B', 'D')\n",
            "3: ('A', 'B', 'E')\n",
            "4: ('A', 'C', 'D')\n",
            "5: ('A', 'C', 'E')\n",
            "6: ('A', 'D', 'E')\n",
            "7: ('B', 'C', 'D')\n",
            "8: ('B', 'C', 'E')\n",
            "9: ('B', 'D', 'E')\n",
            "10: ('C', 'D', 'E')\n",
            "\n",
            "Theoretical number of combinations:  10\n",
            "Generated combinations:  10\n"
          ]
        }
      ]
    }
  ]
}