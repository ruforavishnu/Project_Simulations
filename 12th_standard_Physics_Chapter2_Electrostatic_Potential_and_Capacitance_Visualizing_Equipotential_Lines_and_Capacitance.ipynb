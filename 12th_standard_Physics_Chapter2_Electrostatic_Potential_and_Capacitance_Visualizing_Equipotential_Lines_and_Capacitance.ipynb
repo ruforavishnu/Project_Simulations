{
  "nbformat": 4,
  "nbformat_minor": 0,
  "metadata": {
    "colab": {
      "provenance": [],
      "authorship_tag": "ABX9TyMcuFKFkYujXRnFYlw71fXt",
      "include_colab_link": true
    },
    "kernelspec": {
      "name": "python3",
      "display_name": "Python 3"
    },
    "language_info": {
      "name": "python"
    }
  },
  "cells": [
    {
      "cell_type": "markdown",
      "metadata": {
        "id": "view-in-github",
        "colab_type": "text"
      },
      "source": [
        "<a href=\"https://colab.research.google.com/github/ruforavishnu/Project_Simulations/blob/main/12th_standard_Physics_Chapter2_Electrostatic_Potential_and_Capacitance_Visualizing_Equipotential_Lines_and_Capacitance.ipynb\" target=\"_parent\"><img src=\"https://colab.research.google.com/assets/colab-badge.svg\" alt=\"Open In Colab\"/></a>"
      ]
    },
    {
      "cell_type": "code",
      "execution_count": 1,
      "metadata": {
        "id": "n1F-s0vPFSbF"
      },
      "outputs": [],
      "source": [
        "import numpy as np\n",
        "import matplotlib.pyplot as plt"
      ]
    },
    {
      "cell_type": "markdown",
      "source": [
        "Define Electrostatic Potential Function"
      ],
      "metadata": {
        "id": "2nl8xzMUKZWS"
      }
    },
    {
      "cell_type": "code",
      "source": [
        "def potential(q, r0, x, y):\n",
        "  \"\"\"Calculate electric potential from charge q at r0=(x0, y0) on a grid\"\"\"\n",
        "  rx = x - r0[0]\n",
        "  ry = y - r0[1]\n",
        "\n",
        "  r = np.sqrt(rx**2 + ry**2 )\n",
        "  r[r == 0] = 1e-20 # to avoid division by zero\n",
        "  V = q / r\n",
        "  return V\n",
        "\n",
        ""
      ],
      "metadata": {
        "id": "JBRRAvz3FiiU"
      },
      "execution_count": 2,
      "outputs": []
    },
    {
      "cell_type": "markdown",
      "source": [
        "Create a Grid and Define Charges"
      ],
      "metadata": {
        "id": "coWL74SeKdCC"
      }
    },
    {
      "cell_type": "code",
      "source": [
        "x, y = np.meshgrid(np.linspace(-5, 5, 200),np.linspace(-5, 5, 200))\n",
        "\n",
        "\n",
        "charges = [\n",
        "\n",
        "            (+1, (-1,0)), #positive charge on the left\n",
        "            (-1, (1, 0)), # negative charge on the right\n",
        "\n",
        "]"
      ],
      "metadata": {
        "id": "awO-WaM3KXdD"
      },
      "execution_count": 3,
      "outputs": []
    },
    {
      "cell_type": "markdown",
      "source": [
        "Calculate Total Potential on the Grid"
      ],
      "metadata": {
        "id": "2h6NP2iOKwXy"
      }
    },
    {
      "cell_type": "code",
      "source": [
        "V_total = np.zeros_like(x)\n",
        "\n",
        "for q, pos in charges:\n",
        "  V_total += potential(q, pos, x, y)\n",
        ""
      ],
      "metadata": {
        "id": "8zaR8d_lKwmq"
      },
      "execution_count": 4,
      "outputs": []
    },
    {
      "cell_type": "markdown",
      "source": [
        " Plot Equipotential Lines"
      ],
      "metadata": {
        "id": "KQ-GDAUrK62L"
      }
    },
    {
      "cell_type": "code",
      "source": [
        "fig, ax = plt.subplots(figsize=(6,6))\n",
        "\n",
        "contour = ax.contour(x, y, V_total, levels=50, cmap='coolwarm')\n",
        "plt.clabel(contour, inline=True, fontsize=8)\n",
        "\n",
        "#Mark the charges\n",
        "for q, pos in charges:\n",
        "  color  = 'r' if q > 0 else 'b'\n",
        "  ax.plot(pos[0] , pos[1] , 'o', color=color, markersize=15)\n",
        "\n",
        "\n",
        "ax.set_title('Equipotential Lines around Charges')\n",
        "ax.set_xlabel('x')\n",
        "ax.set_ylabel('y')\n",
        "\n",
        "ax.set_aspect('equal')\n",
        "plt.grid(True)\n",
        "plt.show()\n",
        "\n",
        "\n"
      ],
      "metadata": {
        "colab": {
          "base_uri": "https://localhost:8080/",
          "height": 564
        },
        "id": "sFQnS99HK7XD",
        "outputId": "40750b3a-0c85-4d23-86e7-18a05bbf6de2"
      },
      "execution_count": 5,
      "outputs": [
        {
          "output_type": "display_data",
          "data": {
            "text/plain": [
              "<Figure size 600x600 with 1 Axes>"
            ],
            "image/png": "[encoded data removed]"
          },
          "metadata": {}
        }
      ]
    }
  ]
}