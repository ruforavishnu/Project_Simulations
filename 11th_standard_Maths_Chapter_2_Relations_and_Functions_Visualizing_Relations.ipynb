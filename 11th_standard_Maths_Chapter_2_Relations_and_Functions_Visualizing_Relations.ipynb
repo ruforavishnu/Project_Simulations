{
  "nbformat": 4,
  "nbformat_minor": 0,
  "metadata": {
    "colab": {
      "provenance": [],
      "authorship_tag": "ABX9TyN8t4O70HgG9Dl8Y4/Q1R2e",
      "include_colab_link": true
    },
    "kernelspec": {
      "name": "python3",
      "display_name": "Python 3"
    },
    "language_info": {
      "name": "python"
    }
  },
  "cells": [
    {
      "cell_type": "markdown",
      "metadata": {
        "id": "view-in-github",
        "colab_type": "text"
      },
      "source": [
        "<a href=\"https://colab.research.google.com/github/ruforavishnu/Project_Simulations/blob/main/11th_standard_Maths_Chapter_2_Relations_and_Functions_Visualizing_Relations.ipynb\" target=\"_parent\"><img src=\"https://colab.research.google.com/assets/colab-badge.svg\" alt=\"Open In Colab\"/></a>"
      ]
    },
    {
      "cell_type": "code",
      "execution_count": 1,
      "metadata": {
        "id": "oQm9nU2cublP"
      },
      "outputs": [],
      "source": [
        "import matplotlib.pyplot as plt\n"
      ]
    },
    {
      "cell_type": "code",
      "source": [
        "# Define the relation as a list of tuples (ordered pairs)\n",
        "relation = [(1,2), (2,3), (3,4), (4,5)] # This is a function\n",
        "\n",
        "\n"
      ],
      "metadata": {
        "id": "cm2tETqQulW6"
      },
      "execution_count": 2,
      "outputs": []
    },
    {
      "cell_type": "code",
      "source": [
        "print(relation)"
      ],
      "metadata": {
        "colab": {
          "base_uri": "https://localhost:8080/"
        },
        "id": "4h3283tvvAH5",
        "outputId": "f49675d2-8d43-4f2e-def8-2b6bf20369bb"
      },
      "execution_count": 6,
      "outputs": [
        {
          "output_type": "stream",
          "name": "stdout",
          "text": [
            "[(1, 2), (2, 3), (3, 4), (4, 5)]\n"
          ]
        }
      ]
    },
    {
      "cell_type": "code",
      "source": [
        "# Separate x and y for plotting\n",
        "x_vals = [x for x,y in relation]\n",
        "y_vals = [y for x,y in relation]\n",
        "\n"
      ],
      "metadata": {
        "id": "jC5HyFItuznA"
      },
      "execution_count": 3,
      "outputs": []
    },
    {
      "cell_type": "code",
      "source": [
        "print(x_vals)"
      ],
      "metadata": {
        "colab": {
          "base_uri": "https://localhost:8080/"
        },
        "id": "3ZJxvjZJu87G",
        "outputId": "b94b0f90-3551-4564-9641-6fabd60d7af3"
      },
      "execution_count": 4,
      "outputs": [
        {
          "output_type": "stream",
          "name": "stdout",
          "text": [
            "[1, 2, 3, 4]\n"
          ]
        }
      ]
    },
    {
      "cell_type": "code",
      "source": [
        "print(y_vals)"
      ],
      "metadata": {
        "colab": {
          "base_uri": "https://localhost:8080/"
        },
        "id": "R3ywm-b5u-Xn",
        "outputId": "bd9393df-ea00-4273-e412-97444ad1b830"
      },
      "execution_count": 5,
      "outputs": [
        {
          "output_type": "stream",
          "name": "stdout",
          "text": [
            "[2, 3, 4, 5]\n"
          ]
        }
      ]
    },
    {
      "cell_type": "code",
      "source": [
        "plt.scatter(x_vals, y_vals, color='blue')\n",
        "plt.title('Relation Plot')\n",
        "plt.xlabel('Set A elements (Domain)')\n",
        "plt.ylabel('Set B elements (Co-Domain)')\n",
        "plt.grid(True)\n",
        "plt.show()\n",
        "\n",
        ""
      ],
      "metadata": {
        "colab": {
          "base_uri": "https://localhost:8080/",
          "height": 472
        },
        "id": "7IfraZX1vCth",
        "outputId": "8576a478-34e1-491a-ba16-f339d0a4a375"
      },
      "execution_count": 7,
      "outputs": [
        {
          "output_type": "display_data",
          "data": {
            "text/plain": [
              "<Figure size 640x480 with 1 Axes>"
            ],
            "image/png": "[encoded data removed]"
          },
          "metadata": {}
        }
      ]
    },
    {
      "cell_type": "code",
      "source": [
        "def is_function(relation):\n",
        "  domain = [x for x,y in relation]\n",
        "  return len(domain) == len(set(domain))\n",
        ""
      ],
      "metadata": {
        "id": "GLVPQCQXvWOJ"
      },
      "execution_count": 8,
      "outputs": []
    },
    {
      "cell_type": "code",
      "source": [
        "if is_function(relation):\n",
        "  print('The relation is a function ✅')\n",
        "else:\n",
        "  print('The relation is NOT a function ❌')\n",
        ""
      ],
      "metadata": {
        "colab": {
          "base_uri": "https://localhost:8080/"
        },
        "id": "Psw3xvMevhiV",
        "outputId": "6eeda08a-7daf-4098-c312-cc87adfd81a8"
      },
      "execution_count": 9,
      "outputs": [
        {
          "output_type": "stream",
          "name": "stdout",
          "text": [
            "The relation is a function ✅\n"
          ]
        }
      ]
    }
  ]
}